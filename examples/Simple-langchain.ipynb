{
 "cells": [
  {
   "cell_type": "code",
   "execution_count": 2,
   "id": "0856e694-2072-443b-8955-cf03fe6f5957",
   "metadata": {},
   "outputs": [],
   "source": [
    "from langchain.llms import OpenAI\n",
    "from langchain import PromptTemplate, LLMChain\n",
    "import os\n",
    "\n",
    "os.environ[\"OPENAI_API_KEY\"] = \"EMPTY\"\n",
    "os.environ[\"OPENAI_API_BASE\"] = os.environ[\"LLM_API_SERVER_BASE\"]\n",
    "model = os.environ[\"LLM_LOADED\"]"
   ]
  },
  {
   "cell_type": "code",
   "execution_count": 3,
   "id": "b7188aeb-3b2e-4233-93e5-bc466b508694",
   "metadata": {},
   "outputs": [],
   "source": [
    "template = \"\"\"Question: {question}\n",
    "\n",
    "Answer:\"\"\"\n",
    "\n",
    "prompt = PromptTemplate(template=template, input_variables=[\"question\"])"
   ]
  },
  {
   "cell_type": "code",
   "execution_count": 8,
   "id": "843d0b83-43eb-4d86-97a5-f228df954efc",
   "metadata": {},
   "outputs": [],
   "source": [
    "llm = OpenAI(model=model,logit_bias=None, max_tokens=500, temperature=0.7)\n",
    "llm_chain = LLMChain(prompt=prompt, llm=llm)"
   ]
  },
  {
   "cell_type": "code",
   "execution_count": 9,
   "id": "b8fa59a3-1501-406a-95fa-9854d94b345a",
   "metadata": {},
   "outputs": [
    {
     "data": {
      "text/plain": [
       "'The capital of Indonesia.</s>'"
      ]
     },
     "execution_count": 9,
     "metadata": {},
     "output_type": "execute_result"
    }
   ],
   "source": [
    "question = \"Jakarta is\"\n",
    "\n",
    "llm_chain.run(question)"
   ]
  },
  {
   "cell_type": "code",
   "execution_count": null,
   "id": "9438d3f2-8db8-4248-8041-51e30bd4ca71",
   "metadata": {},
   "outputs": [],
   "source": []
  }
 ],
 "metadata": {
  "kernelspec": {
   "display_name": "Python 3 (ipykernel)",
   "language": "python",
   "name": "python3"
  },
  "language_info": {
   "codemirror_mode": {
    "name": "ipython",
    "version": 3
   },
   "file_extension": ".py",
   "mimetype": "text/x-python",
   "name": "python",
   "nbconvert_exporter": "python",
   "pygments_lexer": "ipython3",
   "version": "3.9.11"
  }
 },
 "nbformat": 4,
 "nbformat_minor": 5
}
