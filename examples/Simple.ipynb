{
 "cells": [
  {
   "cell_type": "code",
   "execution_count": 9,
   "id": "d46cb021-3bb5-41ef-b9c1-468b4a6be30f",
   "metadata": {},
   "outputs": [],
   "source": [
    "import openai\n",
    "import os\n",
    "\n",
    "# Modify OpenAI's API key, API base, model accordingly.\n",
    "openai.api_key = \"EMPTY\"\n",
    "openai.api_base = os.environ[\"LLM_API_SERVER_BASE\"]\n",
    "model = os.environ[\"LLM_LOADED\"]"
   ]
  },
  {
   "cell_type": "code",
   "execution_count": 14,
   "id": "8a17ae43-3bb8-446c-b05f-9952116d5df8",
   "metadata": {},
   "outputs": [
    {
     "name": "stdout",
     "output_type": "stream",
     "text": [
      "Response result: {\n",
      "  \"id\": \"cmpl-048810d973b4426483ea9840f6b9ca3c\",\n",
      "  \"object\": \"text_completion\",\n",
      "  \"created\": 1690099835,\n",
      "  \"model\": \"./models/vicuna-7b-v1.3\",\n",
      "  \"choices\": [\n",
      "    {\n",
      "      \"index\": 0,\n",
      "      \"text\": \"a harbour district located in Central Jakarta, Indonesia. It is named after the Sundanese people who lived in the area before the arrival of the Dutch colonizers. The Sundanese people used to trade with the local Javanese and Arab traders. The harbour was an important trading center for spices, textiles, and other goods. Today, Sunda Kelapa is a popular tourist attraction due to its history and cultural significance.\",\n",
      "      \"logprobs\": null,\n",
      "      \"finish_reason\": \"stop\"\n",
      "    }\n",
      "  ],\n",
      "  \"usage\": {\n",
      "    \"prompt_tokens\": 6,\n",
      "    \"total_tokens\": 103,\n",
      "    \"completion_tokens\": 97\n",
      "  }\n",
      "}\n"
     ]
    }
   ],
   "source": [
    "# Example using Completion API\n",
    "\n",
    "response = openai.Completion.create(\n",
    "                        model=model,\n",
    "                        prompt=\"Sunda Kelapa is\",\n",
    "                        max_tokens=500,\n",
    "                        temperature=0.7,\n",
    "                        stop=\"</s>\")\n",
    "print(\"Response result:\", response)"
   ]
  },
  {
   "cell_type": "code",
   "execution_count": 15,
   "id": "1ac2274c-3b08-440b-af91-d7f3a73d545e",
   "metadata": {},
   "outputs": [
    {
     "name": "stdout",
     "output_type": "stream",
     "text": [
      "Response result: {\n",
      "  \"id\": \"cmpl-68cde80fd06d4ac4a02d17afb47d8dcf\",\n",
      "  \"object\": \"chat.completion\",\n",
      "  \"created\": 1690099865,\n",
      "  \"model\": \"./models/vicuna-7b-v1.3\",\n",
      "  \"choices\": [\n",
      "    {\n",
      "      \"index\": 0,\n",
      "      \"message\": {\n",
      "        \"role\": \"assistant\",\n",
      "        \"content\": \"Sunda Kelapa is the old port town of Jakarta, the capital city\"\n",
      "      },\n",
      "      \"finish_reason\": \"length\"\n",
      "    }\n",
      "  ],\n",
      "  \"usage\": {\n",
      "    \"prompt_tokens\": 24,\n",
      "    \"total_tokens\": 40,\n",
      "    \"completion_tokens\": 16\n",
      "  }\n",
      "}\n"
     ]
    }
   ],
   "source": [
    "# Example using Chat Completion API\n",
    "\n",
    "response = completion = openai.ChatCompletion.create(\n",
    "  model=model,\n",
    "  messages=[\n",
    "    {\"role\": \"system\", \"content\": \"You are a helpful assistant.\"},\n",
    "    {\"role\": \"user\", \"content\": \"Hello! Tell me about Sunda Kelapa\"}\n",
    "  ]\n",
    ")\n",
    "\n",
    "print(\"Response result:\", response)"
   ]
  }
 ],
 "metadata": {
  "kernelspec": {
   "display_name": "Python 3 (ipykernel)",
   "language": "python",
   "name": "python3"
  },
  "language_info": {
   "codemirror_mode": {
    "name": "ipython",
    "version": 3
   },
   "file_extension": ".py",
   "mimetype": "text/x-python",
   "name": "python",
   "nbconvert_exporter": "python",
   "pygments_lexer": "ipython3",
   "version": "3.9.11"
  }
 },
 "nbformat": 4,
 "nbformat_minor": 5
}
