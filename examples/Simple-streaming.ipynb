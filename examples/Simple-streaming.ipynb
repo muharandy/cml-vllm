{
 "cells": [
  {
   "cell_type": "code",
   "execution_count": 1,
   "id": "6fad78b3-ed21-4575-8820-4a43a19b3bbf",
   "metadata": {},
   "outputs": [],
   "source": [
    "from langchain.llms import OpenAI\n",
    "from langchain.callbacks.streaming_stdout import StreamingStdOutCallbackHandler\n",
    "import os\n",
    "\n",
    "os.environ[\"OPENAI_API_KEY\"] = \"EMPTY\"\n",
    "os.environ[\"OPENAI_API_BASE\"] = os.environ[\"LLM_API_SERVER_BASE\"]\n",
    "model = os.environ[\"LLM_LOADED\"]"
   ]
  },
  {
   "cell_type": "code",
   "execution_count": 2,
   "id": "efe97d2a-3dd0-409f-a850-efe631297215",
   "metadata": {},
   "outputs": [],
   "source": [
    "llm = OpenAI(model=model,logit_bias=None, max_tokens=300, temperature=0, streaming=True, callbacks=[StreamingStdOutCallbackHandler()])"
   ]
  },
  {
   "cell_type": "code",
   "execution_count": 3,
   "id": "e73361c1-5c72-4566-8ea7-3340f38788a8",
   "metadata": {},
   "outputs": [
    {
     "name": "stdout",
     "output_type": "stream",
     "text": [
      "a city in the province of West Java, Indonesia. It is located in the southeast of Jakarta, the capital of Indonesia, and is part of the Jakarta metropolitan area. Depok is known for its traditional market, the Pasar Senen, and its historical sites, including the Kampung Budaya Museum and the Depok Grand Mosque. The city is also home to several universities and research institutions, including the Indonesian Institute of Sciences and the Gadjah Mada University. Depok has a population of around 1.5 million people and is served by the Depok Station, a major transportation hub in the Jakarta metropolitan area.</s>"
     ]
    }
   ],
   "source": [
    "resp = llm(\"Depok is\")"
   ]
  },
  {
   "cell_type": "code",
   "execution_count": null,
   "id": "98fd9767-3c26-409e-9242-ef0c4566ac33",
   "metadata": {},
   "outputs": [],
   "source": []
  }
 ],
 "metadata": {
  "kernelspec": {
   "display_name": "Python 3 (ipykernel)",
   "language": "python",
   "name": "python3"
  },
  "language_info": {
   "codemirror_mode": {
    "name": "ipython",
    "version": 3
   },
   "file_extension": ".py",
   "mimetype": "text/x-python",
   "name": "python",
   "nbconvert_exporter": "python",
   "pygments_lexer": "ipython3",
   "version": "3.9.11"
  }
 },
 "nbformat": 4,
 "nbformat_minor": 5
}
