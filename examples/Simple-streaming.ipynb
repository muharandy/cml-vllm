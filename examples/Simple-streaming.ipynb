{
 "cells": [
  {
   "cell_type": "code",
   "execution_count": 26,
   "id": "6fad78b3-ed21-4575-8820-4a43a19b3bbf",
   "metadata": {},
   "outputs": [],
   "source": [
    "from langchain.llms import OpenAI\n",
    "from langchain.callbacks.streaming_stdout import StreamingStdOutCallbackHandler\n",
    "import os\n",
    "\n",
    "os.environ[\"OPENAI_API_KEY\"] = \"EMPTY\"\n",
    "os.environ[\"OPENAI_API_BASE\"] = os.environ[\"LLM_API_SERVER_BASE\"]\n",
    "model = os.environ[\"LLM_LOADED\"]"
   ]
  },
  {
   "cell_type": "code",
   "execution_count": 29,
   "id": "efe97d2a-3dd0-409f-a850-efe631297215",
   "metadata": {},
   "outputs": [],
   "source": [
    "llm = OpenAI(model=model,logit_bias=None, max_tokens=300, temperature=0, streaming=True, callbacks=[StreamingStdOutCallbackHandler()])"
   ]
  },
  {
   "cell_type": "code",
   "execution_count": 30,
   "id": "e73361c1-5c72-4566-8ea7-3340f38788a8",
   "metadata": {},
   "outputs": [
    {
     "name": "stdout",
     "output_type": "stream",
     "text": [
      "the capital and largest city of Indonesia. Located on the island of Java, it has a population of around 10 million people, making it the second largest city in the world. Jakarta is a bustling metropolis with a mix of modern and traditional architecture, vibrant street life, and a rich cultural heritage. The city is also home to many international organizations, including the World Bank and the International Monetary Fund, making it a hub for business and finance in Southeast Asia.\n",
      "Jakarta is a melting pot of cultures, with a mix of ethnicities, religions, and languages. The city has a long history, dating back to the 4th century, and has been influenced by various cultures over the centuries, including Hinduism, Buddhism, Islam, and European colonialism. Today, Jakarta is a diverse and cosmopolitan city, with a mix of traditional and modern customs and practices.\n",
      "Jakarta is located on the northwest coast of the island of Java, Indonesia. It is the largest city in Indonesia and the capital of the country. The city is located near the equator, and has a tropical climate with high temperatures and humidity throughout the year. Jakarta is also prone to flooding during the rainy season.\n",
      "Jakarta has a rich cultural heritage, with a mix of traditional and modern customs and"
     ]
    }
   ],
   "source": [
    "resp = llm(\"Jakarta is\")"
   ]
  },
  {
   "cell_type": "code",
   "execution_count": null,
   "id": "98fd9767-3c26-409e-9242-ef0c4566ac33",
   "metadata": {},
   "outputs": [],
   "source": []
  }
 ],
 "metadata": {
  "kernelspec": {
   "display_name": "Python 3 (ipykernel)",
   "language": "python",
   "name": "python3"
  },
  "language_info": {
   "codemirror_mode": {
    "name": "ipython",
    "version": 3
   },
   "file_extension": ".py",
   "mimetype": "text/x-python",
   "name": "python",
   "nbconvert_exporter": "python",
   "pygments_lexer": "ipython3",
   "version": "3.9.11"
  }
 },
 "nbformat": 4,
 "nbformat_minor": 5
}
